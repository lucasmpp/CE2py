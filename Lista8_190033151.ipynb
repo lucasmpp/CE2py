{
  "nbformat": 4,
  "nbformat_minor": 0,
  "metadata": {
    "colab": {
      "name": "Lista8_190033151.ipynb",
      "provenance": []
    },
    "kernelspec": {
      "name": "python3",
      "display_name": "Python 3"
    },
    "language_info": {
      "name": "python"
    }
  },
  "cells": [
    {
      "cell_type": "markdown",
      "metadata": {
        "id": "PyySCn0Y3WzU"
      },
      "source": [
        "# Lucas de Moraes Pinto Pereira\n",
        "# 190033151"
      ]
    },
    {
      "cell_type": "code",
      "metadata": {
        "colab": {
          "base_uri": "https://localhost:8080/"
        },
        "id": "nEbwjXBw1LIy",
        "outputId": "9f434263-86b1-4e7e-e241-1602c76d787d"
      },
      "source": [
        "import random\n",
        "\n",
        "def escolhe(matricula):\n",
        "    random.seed(matricula)\n",
        "    cap1 = (2,8,9,11,12,15,16,18,20,21,22,24,26,27,28,30,31,32)    \n",
        "    cap2 = (36,40,44,45,46,48,50,51,53,55,56,57,59,60)\n",
        "    cap3 = (63,64,65,68,71,72,74,76,78,80,81,84)\n",
        "    cap4 = (85,86,87,89,91,92,94,97,99,101,103,104,106)\n",
        "    cap5 = (111,115,117,118,119,122,123,124,126,127,131,132,133)\n",
        "    cap6 = (138,139,140,141,144,147,148)\n",
        "    cap7 = (152,153,154,155,157,160,161,164,165,166,168,171,172)\n",
        "    cap8 = (174,175,176,177,179,181,182,185)\n",
        "    return(random.sample(cap8, k=2))\n",
        "    \n",
        "\n",
        "print(\"Você deverá entregar os exercícios: \", escolhe(input(\"Escreva o número de sua matricula: \")))"
      ],
      "execution_count": 18,
      "outputs": [
        {
          "output_type": "stream",
          "text": [
            "Escreva o número de sua matricula: 190033151                                    \n",
            "Você deverá entregar os exercícios:  [177, 175]\n"
          ],
          "name": "stdout"
        }
      ]
    },
    {
      "cell_type": "markdown",
      "metadata": {
        "id": "bi1aFUvw8_pT"
      },
      "source": [
        "## Exercise 177: Roman Numerals"
      ]
    },
    {
      "cell_type": "markdown",
      "metadata": {
        "id": "5fiMh55d8_8Y"
      },
      "source": [
        "As the name implies, Roman numerals were developed in ancient Rome. Even after\n",
        "the Roman empire fell, its numerals continued to be widely used in Europe until the\n",
        "late middle ages, and its numerals are still used in limited circumstances today.\n",
        "Roman numerals are constructed from the letters M, D, C, L, X, V and I which\n",
        "represent 1000, 500, 100, 50, 10, 5 and 1 respectively. The numerals are generally\n",
        "written from largest value to smallest value. When this occurs the value of the number\n",
        "is the sum of the values of all of its numerals. If a smaller value precedes a larger\n",
        "value then the smaller value is subtracted from the larger value that it immediately\n",
        "precedes, and that difference is added to the value of the number.1\n",
        "Create a recursive function that converts a Roman numeral to an integer. Your\n",
        "function should process one or two characters at the beginning of the string, and\n",
        "then call itself recursively on all of the unprocessed characters. Use an empty string,\n",
        "which has the value 0, for the base case. In addition, write a main program that reads\n",
        "a Roman numeral from the user and displays its value. You can assume that the value\n",
        "entered by the user is valid. Your program does not need to do any error checking."
      ]
    },
    {
      "cell_type": "code",
      "metadata": {
        "colab": {
          "base_uri": "https://localhost:8080/"
        },
        "id": "RXSiKbJH7m-U",
        "outputId": "2142a602-7146-48c0-a28a-3b655277a287"
      },
      "source": [
        "dicionario = {\"\": 0, \"M\": 1000, \"D\": 500, \"C\": 100, \"L\": 50, \"X\": 10, \"V\": 5, \"I\": 1}\n",
        "def roman(algarismo):\n",
        "  \n",
        "    if algarismo in dicionario:\n",
        "         return dicionario[algarismo]\n",
        "\n",
        "\n",
        "    first, second = map(roman, algarismo[:2])\n",
        "    if first < second:\n",
        "        return second - first + roman(algarismo[2:])\n",
        "    else:\n",
        "        return first + roman(algarismo[1:])\n",
        "roman(\"MD\")        "
      ],
      "execution_count": 22,
      "outputs": [
        {
          "output_type": "execute_result",
          "data": {
            "text/plain": [
              "1500"
            ]
          },
          "metadata": {
            "tags": []
          },
          "execution_count": 22
        }
      ]
    },
    {
      "cell_type": "markdown",
      "metadata": {
        "id": "v0UgNP1_9Gqs"
      },
      "source": [
        "## Exercise 175: Recursive Decimal to Binary"
      ]
    },
    {
      "cell_type": "markdown",
      "metadata": {
        "id": "SD-TRvSj9GuJ"
      },
      "source": [
        "In Exercise 82 you wrote a program that used a loop to convert a decimal number\n",
        "to its binary representation. In this exercise you will perform the same task using\n",
        "recursion.\n",
        "Write a recursive function that converts a non-negative decimal number to binary.\n",
        "Treat 0 and 1 as base cases which return a string containing the appropriate digit. For\n",
        "all other positive integers, n, you should compute the next digit using the remainder\n",
        "operator and then make a recursive call to compute the digits of n // 2. Finally, you\n",
        "should concatenate the result of the recursive call (which will be a string) and the\n",
        "next digit (which you will need to convert to a string) and return this string as the\n",
        "result of the function.\n",
        "Write a main program that uses your recursive function to convert a non-negative\n",
        "integer entered by the user from decimal to binary. Your program should display an\n",
        "appropriate error message if the user enters a negative value."
      ]
    },
    {
      "cell_type": "code",
      "metadata": {
        "colab": {
          "base_uri": "https://localhost:8080/",
          "height": 35
        },
        "id": "49OdJEq934aZ",
        "outputId": "9441da03-c6a1-4807-f94e-5ad5ecf69d91"
      },
      "source": [
        "def dec_bin(n):\n",
        "    if n < 0:\n",
        "        return 'Must be a positive integer'\n",
        "    elif n == 0:\n",
        "        return '0'\n",
        "    else:\n",
        "        return dec_bin(n//2) + str(n%2)\n",
        "dec_bin(5)        "
      ],
      "execution_count": 8,
      "outputs": [
        {
          "output_type": "execute_result",
          "data": {
            "application/vnd.google.colaboratory.intrinsic+json": {
              "type": "string"
            },
            "text/plain": [
              "'0101'"
            ]
          },
          "metadata": {
            "tags": []
          },
          "execution_count": 8
        }
      ]
    }
  ]
}